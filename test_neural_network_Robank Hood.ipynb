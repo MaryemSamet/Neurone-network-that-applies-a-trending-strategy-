{
  "nbformat": 4,
  "nbformat_minor": 0,
  "metadata": {
    "colab": {
      "name": "Untitled4.ipynb",
      "version": "0.3.2",
      "provenance": [],
      "collapsed_sections": []
    },
    "kernelspec": {
      "name": "python3",
      "display_name": "Python 3"
    }
  },
  "cells": [
    {
      "cell_type": "markdown",
      "metadata": {
        "id": "MZmMV4OEaLL5",
        "colab_type": "text"
      },
      "source": [
        "In this notebook we will will discover how to develop *LSTM networks* in Python using the Keras deep learning library to predict the the lowest tendency of the bitcoin market in  given brands\n",
        "\n",
        "the *input* :  brands where values are lower than the middle of Bollinger bands\n",
        "\n",
        "the *output* : a score that shows us whether a point can be the lowest tendency or not "
      ]
    },
    {
      "cell_type": "markdown",
      "metadata": {
        "id": "yJoCTwlRYo7z",
        "colab_type": "text"
      },
      "source": [
        "**Import Libraries**\n"
      ]
    },
    {
      "cell_type": "code",
      "metadata": {
        "id": "4mwvtLZBmID9",
        "colab_type": "code",
        "colab": {}
      },
      "source": [
        "import pandas as pd\n",
        "import numpy as np\n",
        "import math\n",
        "import matplotlib.pyplot as plt\n",
        "from keras.models import Sequential\n",
        "from keras.layers import LSTM\n",
        "from keras.callbacks import EarlyStopping\n",
        "from sklearn.preprocessing import MinMaxScaler\n",
        "from sklearn.metrics import mean_squared_error"
      ],
      "execution_count": 0,
      "outputs": []
    },
    {
      "cell_type": "markdown",
      "metadata": {
        "id": "rK48hEW5YhNu",
        "colab_type": "text"
      },
      "source": [
        "**Read json Data**"
      ]
    },
    {
      "cell_type": "code",
      "metadata": {
        "id": "1tdMYDI365qO",
        "colab_type": "code",
        "colab": {}
      },
      "source": [
        "#contains the bands where candlestick are lower than the middle of bollinger band \n",
        "bands0 = pd.read_json (r'bands0.json')\n",
        "bands1 = pd.read_json (r'bands1.json')\n",
        "bands2 = pd.read_json (r'bands2.json')\n",
        "bands4= pd.read_json (r'bands4.json')\n",
        "bands5 = pd.read_json (r'bands5.json')\n",
        "\n",
        "\n",
        "#contains bollinger bands with a period = 18 = 1h30\n",
        "bollingerBands0 = pd.read_json (r'bollinger-bands0.json')\n",
        "bollingerBands1 = pd.read_json (r'bollinger-bands1.json')\n",
        "bollingerBands2 = pd.read_json (r'bollinger-bands2.json')\n",
        "bollingerBands4= pd.read_json (r'bollinger-bands4.json')\n",
        "bollingerBands5 = pd.read_json (r'bollinger-bands5.json')\n",
        "\n",
        "#contains OHCLV for each candlestick\n",
        "ohclv0 = pd.read_json (r'ohclv0.json')\n",
        "ohclv1 = pd.read_json (r'ohclv1.json')\n",
        "ohclv2 = pd.read_json (r'ohclv2.json')\n",
        "ohclv4= pd.read_json (r'ohclv4.json')\n",
        "ohclv5 = pd.read_json (r'ohclv5.json')"
      ],
      "execution_count": 0,
      "outputs": []
    },
    {
      "cell_type": "markdown",
      "metadata": {
        "id": "DtFkHfbtYv5g",
        "colab_type": "text"
      },
      "source": [
        "**Concatenate OHCLV datasets with their Bollinger Bands**"
      ]
    },
    {
      "cell_type": "code",
      "metadata": {
        "id": "vosa9A2rkIB4",
        "colab_type": "code",
        "colab": {}
      },
      "source": [
        "dataset0 = pd.concat([ohclv0, bollingerBands0], axis=1, sort=False)\n",
        "dataset1 = pd.concat([ohclv1, bollingerBands1], axis=1, sort=False)\n",
        "dataset2 = pd.concat([ohclv2, bollingerBands2], axis=1, sort=False)\n",
        "dataset4 = pd.concat([ohclv4, bollingerBands4], axis=1, sort=False)\n",
        "dataset5 = pd.concat([ohclv5, bollingerBands5], axis=1, sort=False)\n",
        "\n",
        "frames1 = [dataset0, dataset1, dataset2,dataset4,dataset5]\n",
        "\n",
        "#dataset that contains ohclv data and there bollingerBands\n",
        "dataset = pd.concat(frames1)\n"
      ],
      "execution_count": 0,
      "outputs": []
    },
    {
      "cell_type": "markdown",
      "metadata": {
        "id": "CTUpPHOUZJWs",
        "colab_type": "text"
      },
      "source": [
        "**Cleaning Dataset**\n",
        "\n",
        "\n",
        "\n",
        "*   delete useless columns\n",
        "*   reset index of dataframe\n",
        "*   renaming columns\n",
        "*   drop nan and duplicates\n",
        "\n",
        "\n",
        "\n"
      ]
    },
    {
      "cell_type": "code",
      "metadata": {
        "id": "vQ6Qrt1wkQOE",
        "colab_type": "code",
        "outputId": "15f6a926-c000-443d-e294-0acf365f9274",
        "colab": {
          "base_uri": "https://localhost:8080/",
          "height": 195
        }
      },
      "source": [
        "del dataset[6]\n",
        "del dataset[7]\n",
        "dataset =dataset.reset_index(drop=True)\n",
        "\n",
        "dataset.rename(columns={0:'timestamp', 1:'open',2:'high',3:'close',4:'low',5:'volume'}, inplace=True)\n",
        "dataset =dataset.dropna()\n",
        "dataset = dataset.drop_duplicates()\n",
        "\n",
        "dataset.head()\n"
      ],
      "execution_count": 6,
      "outputs": [
        {
          "output_type": "execute_result",
          "data": {
            "text/html": [
              "<div>\n",
              "<style scoped>\n",
              "    .dataframe tbody tr th:only-of-type {\n",
              "        vertical-align: middle;\n",
              "    }\n",
              "\n",
              "    .dataframe tbody tr th {\n",
              "        vertical-align: top;\n",
              "    }\n",
              "\n",
              "    .dataframe thead th {\n",
              "        text-align: right;\n",
              "    }\n",
              "</style>\n",
              "<table border=\"1\" class=\"dataframe\">\n",
              "  <thead>\n",
              "    <tr style=\"text-align: right;\">\n",
              "      <th></th>\n",
              "      <th>timestamp</th>\n",
              "      <th>open</th>\n",
              "      <th>high</th>\n",
              "      <th>close</th>\n",
              "      <th>low</th>\n",
              "      <th>volume</th>\n",
              "      <th>lower</th>\n",
              "      <th>middle</th>\n",
              "      <th>pb</th>\n",
              "      <th>upper</th>\n",
              "    </tr>\n",
              "  </thead>\n",
              "  <tbody>\n",
              "    <tr>\n",
              "      <th>0</th>\n",
              "      <td>1566345600</td>\n",
              "      <td>9712.88</td>\n",
              "      <td>9721.28</td>\n",
              "      <td>9712.88</td>\n",
              "      <td>9712.92</td>\n",
              "      <td>0.376953</td>\n",
              "      <td>8996.666571</td>\n",
              "      <td>9063.965000</td>\n",
              "      <td>0.053296</td>\n",
              "      <td>9131.263429</td>\n",
              "    </tr>\n",
              "    <tr>\n",
              "      <th>1</th>\n",
              "      <td>1566345900</td>\n",
              "      <td>9714.67</td>\n",
              "      <td>9728.94</td>\n",
              "      <td>9714.67</td>\n",
              "      <td>9717.50</td>\n",
              "      <td>0.260442</td>\n",
              "      <td>8994.765371</td>\n",
              "      <td>9057.542778</td>\n",
              "      <td>0.156383</td>\n",
              "      <td>9120.320185</td>\n",
              "    </tr>\n",
              "    <tr>\n",
              "      <th>2</th>\n",
              "      <td>1566346200</td>\n",
              "      <td>9728.94</td>\n",
              "      <td>9728.94</td>\n",
              "      <td>9719.13</td>\n",
              "      <td>9728.94</td>\n",
              "      <td>2.487298</td>\n",
              "      <td>8995.278903</td>\n",
              "      <td>9051.505556</td>\n",
              "      <td>0.187199</td>\n",
              "      <td>9107.732208</td>\n",
              "    </tr>\n",
              "    <tr>\n",
              "      <th>3</th>\n",
              "      <td>1566346500</td>\n",
              "      <td>9728.94</td>\n",
              "      <td>9730.84</td>\n",
              "      <td>9713.05</td>\n",
              "      <td>9726.13</td>\n",
              "      <td>0.306041</td>\n",
              "      <td>8992.110983</td>\n",
              "      <td>9048.460556</td>\n",
              "      <td>0.265299</td>\n",
              "      <td>9104.810128</td>\n",
              "    </tr>\n",
              "    <tr>\n",
              "      <th>4</th>\n",
              "      <td>1566346800</td>\n",
              "      <td>9726.60</td>\n",
              "      <td>9726.60</td>\n",
              "      <td>9719.48</td>\n",
              "      <td>9719.48</td>\n",
              "      <td>0.039920</td>\n",
              "      <td>8989.426778</td>\n",
              "      <td>9044.952778</td>\n",
              "      <td>0.261078</td>\n",
              "      <td>9100.478778</td>\n",
              "    </tr>\n",
              "  </tbody>\n",
              "</table>\n",
              "</div>"
            ],
            "text/plain": [
              "    timestamp     open     high  ...       middle        pb        upper\n",
              "0  1566345600  9712.88  9721.28  ...  9063.965000  0.053296  9131.263429\n",
              "1  1566345900  9714.67  9728.94  ...  9057.542778  0.156383  9120.320185\n",
              "2  1566346200  9728.94  9728.94  ...  9051.505556  0.187199  9107.732208\n",
              "3  1566346500  9728.94  9730.84  ...  9048.460556  0.265299  9104.810128\n",
              "4  1566346800  9726.60  9726.60  ...  9044.952778  0.261078  9100.478778\n",
              "\n",
              "[5 rows x 10 columns]"
            ]
          },
          "metadata": {
            "tags": []
          },
          "execution_count": 6
        }
      ]
    },
    {
      "cell_type": "markdown",
      "metadata": {
        "id": "N24tSeDjZi7X",
        "colab_type": "text"
      },
      "source": [
        "**Concatenate all bands that represent the low tendencies**\n",
        "\n",
        "where the candlestick close are lower than the middle of Bollinger bands"
      ]
    },
    {
      "cell_type": "code",
      "metadata": {
        "id": "2DHIpp_27kKQ",
        "colab_type": "code",
        "colab": {}
      },
      "source": [
        "frames2 = [bands0, bands1, bands2,bands4,bands5]\n",
        "\n",
        "bands = pd.concat(frames2)\n",
        "\n",
        "bands= bands.reset_index(drop=True)\n",
        "\n"
      ],
      "execution_count": 0,
      "outputs": []
    },
    {
      "cell_type": "markdown",
      "metadata": {
        "id": "iLX8Kd9eFc-Q",
        "colab_type": "text"
      },
      "source": [
        "**Brands DataFrame Treatment** \n",
        "\n",
        "\n",
        "*   putting each brand in a dataframe\n",
        "*   doing some cleaning \n",
        "*   add the label class which is called  : lowTrendScore that shows the score of each candle  , the more this score is near to 1 the more the candle present the lowest tendencies \n",
        "\n",
        "\n"
      ]
    },
    {
      "cell_type": "code",
      "metadata": {
        "id": "hv3R4gDJO554",
        "colab_type": "code",
        "outputId": "dbe46276-8e41-4c9f-84e2-17be2f98946c",
        "colab": {
          "base_uri": "https://localhost:8080/",
          "height": 70
        }
      },
      "source": [
        "listDF=[]\n",
        "for i in range(len(bands)):\n",
        "  listDF.append(pd.DataFrame.from_items(zip(bands.iloc[i].index, bands.iloc[i].values)).T)\n",
        "  \n",
        "  del listDF[i][6]\n",
        "  del listDF[i][7]\n",
        "  listDF[i]=listDF[i].dropna()\n",
        "  listDF[i].rename(columns={0:'timestamp', 1:'open',2:'high',3:'close',4:'low',5:'volume'}, inplace=True)\n",
        "  \n",
        "  listDF[i] = pd.merge(listDF[i], dataset,  how='left', left_on=['timestamp','open'\t,'high'\t,'close',\t'low'\t,'volume'], right_on = ['timestamp','open'\t,'high'\t,'close',\t'low'\t,'volume'])\n",
        "\n",
        "  \n",
        "  listDF[i]['lowTrendScore']= (listDF[i]['close'].min() / listDF[i]['close'] )\n"
      ],
      "execution_count": 8,
      "outputs": [
        {
          "output_type": "stream",
          "text": [
            "/usr/local/lib/python3.6/dist-packages/ipykernel_launcher.py:3: FutureWarning: from_items is deprecated. Please use DataFrame.from_dict(dict(items), ...) instead. DataFrame.from_dict(OrderedDict(items)) may be used to preserve the key order.\n",
            "  This is separate from the ipykernel package so we can avoid doing imports until\n"
          ],
          "name": "stderr"
        }
      ]
    },
    {
      "cell_type": "markdown",
      "metadata": {
        "id": "CPAMELBvivGM",
        "colab_type": "text"
      },
      "source": [
        "\n",
        "\n",
        "\n",
        "*   concatenate all dataset in ListDF that represent the bands where the close candlstick lower than the middle of bollinger band\n",
        "*   doing some cleaning\n",
        "*   Split up the dataset into inputs and targets\n",
        "*   Scaling data\n",
        "*   Reshaping Training Data for LSTM\n",
        "\n",
        "\n",
        "\n",
        "LSTMs are sensitive to the scale of the input data\n",
        "\n",
        "the sequence of values is important. we will split the ordered dataset into train and test datasets"
      ]
    },
    {
      "cell_type": "code",
      "metadata": {
        "id": "LdACqCA73LuA",
        "colab_type": "code",
        "outputId": "21da8cf4-c3ba-480a-ce37-fde2159f645b",
        "colab": {
          "base_uri": "https://localhost:8080/",
          "height": 84
        }
      },
      "source": [
        "X_Scaler = MinMaxScaler()\n",
        "\n",
        "\n",
        "#concatenate all the Dataframes which has been stocked in listDF\n",
        "data = listDF[0]\n",
        "for i in range(len(listDF)-1):\n",
        "  df=data.append(listDF[i+1], ignore_index=True)\n",
        "  data=df\n",
        "  \n",
        "  \n",
        "data = data.drop_duplicates()\n",
        "data = data.dropna()\n",
        "del data['timestamp'] #timestamp is useless\n",
        "\n",
        "\n",
        "# split into train and test sets\n",
        "\n",
        "df_train= data[:len(data)-int(len(data)*0.2)]\n",
        "df_test= data[len(data)-int(len(data)*0.2):]\n",
        "\n",
        "#get the target class and the features \n",
        "train_X = df_train.iloc[0:,0:9]\n",
        "train_y = df_train.iloc[0:,9:]\n",
        "train_X =train_X.values\n",
        "train_y =train_y.values\n",
        "\n",
        "\n",
        "test_X = df_test.iloc[0:,0:9]\n",
        "test_y = df_test.iloc[0:,9:]\n",
        "test_X =test_X.values\n",
        "test_y =test_y.values\n",
        "\n",
        "#scaling\n",
        "train_X = X_Scaler.fit_transform(train_X)\n",
        "test_X = X_Scaler.fit_transform(test_X)\n",
        "\n",
        "# reshape input to be [samples, time steps, features]\n",
        "train_X = np.reshape(train_X, (train_X.shape[0], 1, train_X.shape[1]))\n",
        "test_X = np.reshape(test_X, (test_X.shape[0], 1, test_X.shape[1]))\n"
      ],
      "execution_count": 9,
      "outputs": [
        {
          "output_type": "stream",
          "text": [
            "/usr/local/lib/python3.6/dist-packages/numpy/core/fromnumeric.py:86: RuntimeWarning: overflow encountered in reduce\n",
            "  return ufunc.reduce(obj, axis, dtype, out, **passkwargs)\n",
            "/usr/local/lib/python3.6/dist-packages/numpy/core/fromnumeric.py:86: RuntimeWarning: overflow encountered in reduce\n",
            "  return ufunc.reduce(obj, axis, dtype, out, **passkwargs)\n"
          ],
          "name": "stderr"
        }
      ]
    },
    {
      "cell_type": "markdown",
      "metadata": {
        "id": "qSKtUXBljvJ3",
        "colab_type": "text"
      },
      "source": [
        "I picked a Recurrent Neural Network\n",
        "*   **Building the model**\n",
        "*   **compiling the model**\n",
        "*   **Training the model**\n",
        "\n",
        "\n",
        "\n"
      ]
    },
    {
      "cell_type": "markdown",
      "metadata": {
        "id": "LrRrFY52mF-q",
        "colab_type": "text"
      },
      "source": [
        "\n",
        "\n",
        "**The network has :**\n",
        "\n",
        "a visible layer with 10 input\n",
        "\n",
        "a hidden layer with 4 LSTM  neurons\n",
        "\n",
        "an output layer that makes a single value prediction"
      ]
    },
    {
      "cell_type": "markdown",
      "metadata": {
        "id": "cSJjmeWSgOe9",
        "colab_type": "text"
      },
      "source": [
        "**Early stopping** will stop the model from training before reaching all epochs when the model stops improving. "
      ]
    },
    {
      "cell_type": "code",
      "metadata": {
        "id": "PWdaus7e7vsQ",
        "colab_type": "code",
        "outputId": "c3a52f50-520b-4d8b-d276-fe981628d066",
        "colab": {
          "base_uri": "https://localhost:8080/",
          "height": 1000
        }
      },
      "source": [
        "#set early stopping monitor so the model stops training when it won't improve anymore\n",
        "early_stopping_monitor = EarlyStopping(patience=2)\n",
        "\n",
        "\n",
        "num_units = 4 #number of hidden units in the LSTM cell \n",
        "activation_function = 'sigmoid'\n",
        "optimizer = 'adam'\n",
        "loss_function = 'mean_squared_error'\n",
        "batch_size = 5\n",
        "num_epochs = 100\n",
        "\n",
        "# Initialize the RNN\n",
        "regressor = Sequential()\n",
        "\n",
        "# Adding the input layer and the LSTM layer\n",
        "\n",
        "regressor.add(LSTM(units = num_units, activation = activation_function, input_shape=(None, 9)))\n",
        "# Adding the output layer\n",
        "regressor.add(Dense(units = 1))\n",
        "\n",
        "# Compiling the RNN\n",
        "regressor.compile(optimizer = optimizer, loss = loss_function)\n",
        "\n",
        "# Using the training set to train the model\n",
        "regressor.fit(train_X, train_y, batch_size = batch_size, epochs = num_epochs, validation_split=0.2,callbacks=[early_stopping_monitor])\n"
      ],
      "execution_count": 10,
      "outputs": [
        {
          "output_type": "stream",
          "text": [
            "WARNING: Logging before flag parsing goes to stderr.\n",
            "W0830 21:09:44.443703 140341281298304 deprecation_wrapper.py:119] From /usr/local/lib/python3.6/dist-packages/keras/backend/tensorflow_backend.py:66: The name tf.get_default_graph is deprecated. Please use tf.compat.v1.get_default_graph instead.\n",
            "\n",
            "W0830 21:09:44.494139 140341281298304 deprecation_wrapper.py:119] From /usr/local/lib/python3.6/dist-packages/keras/backend/tensorflow_backend.py:541: The name tf.placeholder is deprecated. Please use tf.compat.v1.placeholder instead.\n",
            "\n",
            "W0830 21:09:44.504520 140341281298304 deprecation_wrapper.py:119] From /usr/local/lib/python3.6/dist-packages/keras/backend/tensorflow_backend.py:4432: The name tf.random_uniform is deprecated. Please use tf.random.uniform instead.\n",
            "\n",
            "W0830 21:09:44.729664 140341281298304 deprecation_wrapper.py:119] From /usr/local/lib/python3.6/dist-packages/keras/optimizers.py:793: The name tf.train.Optimizer is deprecated. Please use tf.compat.v1.train.Optimizer instead.\n",
            "\n",
            "W0830 21:09:44.960384 140341281298304 deprecation.py:323] From /usr/local/lib/python3.6/dist-packages/tensorflow/python/ops/math_grad.py:1250: add_dispatch_support.<locals>.wrapper (from tensorflow.python.ops.array_ops) is deprecated and will be removed in a future version.\n",
            "Instructions for updating:\n",
            "Use tf.where in 2.0, which has the same broadcast rule as np.where\n",
            "W0830 21:09:45.388317 140341281298304 deprecation_wrapper.py:119] From /usr/local/lib/python3.6/dist-packages/keras/backend/tensorflow_backend.py:1033: The name tf.assign_add is deprecated. Please use tf.compat.v1.assign_add instead.\n",
            "\n",
            "W0830 21:09:45.458607 140341281298304 deprecation_wrapper.py:119] From /usr/local/lib/python3.6/dist-packages/keras/backend/tensorflow_backend.py:1020: The name tf.assign is deprecated. Please use tf.compat.v1.assign instead.\n",
            "\n"
          ],
          "name": "stderr"
        },
        {
          "output_type": "stream",
          "text": [
            "Train on 1422 samples, validate on 356 samples\n",
            "Epoch 1/100\n",
            "1422/1422 [==============================] - 2s 1ms/step - loss: 0.2080 - val_loss: 0.0101\n",
            "Epoch 2/100\n",
            "1422/1422 [==============================] - 1s 443us/step - loss: 0.0112 - val_loss: 0.0041\n",
            "Epoch 3/100\n",
            "1422/1422 [==============================] - 1s 453us/step - loss: 0.0055 - val_loss: 0.0027\n",
            "Epoch 4/100\n",
            "1422/1422 [==============================] - 1s 438us/step - loss: 0.0035 - val_loss: 0.0020\n",
            "Epoch 5/100\n",
            "1422/1422 [==============================] - 1s 421us/step - loss: 0.0028 - val_loss: 0.0018\n",
            "Epoch 6/100\n",
            "1422/1422 [==============================] - 1s 422us/step - loss: 0.0024 - val_loss: 0.0017\n",
            "Epoch 7/100\n",
            "1422/1422 [==============================] - 1s 422us/step - loss: 0.0022 - val_loss: 0.0015\n",
            "Epoch 8/100\n",
            "1422/1422 [==============================] - 1s 439us/step - loss: 0.0021 - val_loss: 0.0014\n",
            "Epoch 9/100\n",
            "1422/1422 [==============================] - 1s 431us/step - loss: 0.0019 - val_loss: 0.0013\n",
            "Epoch 10/100\n",
            "1422/1422 [==============================] - 1s 432us/step - loss: 0.0018 - val_loss: 0.0012\n",
            "Epoch 11/100\n",
            "1422/1422 [==============================] - 1s 425us/step - loss: 0.0016 - val_loss: 0.0011\n",
            "Epoch 12/100\n",
            "1422/1422 [==============================] - 1s 434us/step - loss: 0.0015 - val_loss: 9.8372e-04\n",
            "Epoch 13/100\n",
            "1422/1422 [==============================] - 1s 435us/step - loss: 0.0013 - val_loss: 8.9627e-04\n",
            "Epoch 14/100\n",
            "1422/1422 [==============================] - 1s 445us/step - loss: 0.0012 - val_loss: 8.8961e-04\n",
            "Epoch 15/100\n",
            "1422/1422 [==============================] - 1s 426us/step - loss: 0.0011 - val_loss: 7.7795e-04\n",
            "Epoch 16/100\n",
            "1422/1422 [==============================] - 1s 431us/step - loss: 0.0010 - val_loss: 7.4060e-04\n",
            "Epoch 17/100\n",
            "1422/1422 [==============================] - 1s 451us/step - loss: 9.2896e-04 - val_loss: 7.0358e-04\n",
            "Epoch 18/100\n",
            "1422/1422 [==============================] - 1s 465us/step - loss: 8.5032e-04 - val_loss: 6.6498e-04\n",
            "Epoch 19/100\n",
            "1422/1422 [==============================] - 1s 484us/step - loss: 7.8992e-04 - val_loss: 7.0571e-04\n",
            "Epoch 20/100\n",
            "1422/1422 [==============================] - 1s 461us/step - loss: 7.3988e-04 - val_loss: 6.6179e-04\n",
            "Epoch 21/100\n",
            "1422/1422 [==============================] - 1s 456us/step - loss: 7.0410e-04 - val_loss: 6.8001e-04\n",
            "Epoch 22/100\n",
            "1422/1422 [==============================] - 1s 482us/step - loss: 6.6646e-04 - val_loss: 6.7171e-04\n"
          ],
          "name": "stdout"
        },
        {
          "output_type": "execute_result",
          "data": {
            "text/plain": [
              "<keras.callbacks.History at 0x7fa37d2101d0>"
            ]
          },
          "metadata": {
            "tags": []
          },
          "execution_count": 10
        }
      ]
    },
    {
      "cell_type": "markdown",
      "metadata": {
        "id": "nle7MkrU0VaF",
        "colab_type": "text"
      },
      "source": [
        "**make predictions**\n",
        "\n",
        "**calculate root mean squared error**"
      ]
    },
    {
      "cell_type": "code",
      "metadata": {
        "id": "1NQDa_TFvk7G",
        "colab_type": "code",
        "colab": {
          "base_uri": "https://localhost:8080/",
          "height": 50
        },
        "outputId": "d0ea7160-8cd2-4d05-c5f2-ed4353d5256c"
      },
      "source": [
        "# make predictions\n",
        "trainPredict = regressor.predict(train_X)\n",
        "testPredict = regressor.predict(test_X)\n",
        "\n",
        "# calculate root mean squared error\n",
        "trainScore = math.sqrt(mean_squared_error(train_y, trainPredict[:,0]))\n",
        "print('Train Score: %.2f RMSE' % (trainScore))\n",
        "testScore = math.sqrt(mean_squared_error(test_y, testPredict[:,0]))\n",
        "print('Test Score: %.2f RMSE' % (testScore))"
      ],
      "execution_count": 15,
      "outputs": [
        {
          "output_type": "stream",
          "text": [
            "Train Score: 0.03 RMSE\n",
            "Test Score: 0.38 RMSE\n"
          ],
          "name": "stdout"
        }
      ]
    },
    {
      "cell_type": "markdown",
      "metadata": {
        "id": "ONWSTkoV3Mjp",
        "colab_type": "text"
      },
      "source": [
        "**Compare the predicted score with the Real score**\n",
        "\n",
        "\n",
        "*   Manual comparison\n",
        "*   Comparison with graph\n",
        "\n"
      ]
    },
    {
      "cell_type": "code",
      "metadata": {
        "id": "bUPtqaUA6-Mw",
        "colab_type": "code",
        "colab": {
          "base_uri": "https://localhost:8080/",
          "height": 229
        },
        "outputId": "db5446e8-d754-48eb-ffbd-df286db554b9"
      },
      "source": [
        "#Manual comparison\n",
        "\n",
        "#Using the Real Score : we want to print the index of the lowest trend : which is represented by a score = 1 \n",
        "d1=pd.DataFrame(test_y)\n",
        "print(d1.index[d1[0] ==1].tolist())\n",
        "\n",
        "\n",
        "#Using the predicted Score : we want to print the index of the lowest trend : which is the nearest to 1 : which is the maximum value\n",
        "d2 =pd.DataFrame(testPredict)\n",
        "print(d2.index[d2[0] == d2[0].max()].tolist())\n",
        "\n",
        "#we can get the 5 highest value which may be the lowest trend \n",
        "d2.nlargest(5, [0]) \n",
        "\n",
        "#we can see that the lowest trend is in index 196 as predicted , which is near to the trend point of index 197\n",
        "#seems good"
      ],
      "execution_count": 16,
      "outputs": [
        {
          "output_type": "stream",
          "text": [
            "[184, 197]\n",
            "[196]\n"
          ],
          "name": "stdout"
        },
        {
          "output_type": "execute_result",
          "data": {
            "text/html": [
              "<div>\n",
              "<style scoped>\n",
              "    .dataframe tbody tr th:only-of-type {\n",
              "        vertical-align: middle;\n",
              "    }\n",
              "\n",
              "    .dataframe tbody tr th {\n",
              "        vertical-align: top;\n",
              "    }\n",
              "\n",
              "    .dataframe thead th {\n",
              "        text-align: right;\n",
              "    }\n",
              "</style>\n",
              "<table border=\"1\" class=\"dataframe\">\n",
              "  <thead>\n",
              "    <tr style=\"text-align: right;\">\n",
              "      <th></th>\n",
              "      <th>0</th>\n",
              "    </tr>\n",
              "  </thead>\n",
              "  <tbody>\n",
              "    <tr>\n",
              "      <th>196</th>\n",
              "      <td>0.957654</td>\n",
              "    </tr>\n",
              "    <tr>\n",
              "      <th>197</th>\n",
              "      <td>0.950189</td>\n",
              "    </tr>\n",
              "    <tr>\n",
              "      <th>198</th>\n",
              "      <td>0.946091</td>\n",
              "    </tr>\n",
              "    <tr>\n",
              "      <th>239</th>\n",
              "      <td>0.934877</td>\n",
              "    </tr>\n",
              "    <tr>\n",
              "      <th>240</th>\n",
              "      <td>0.932956</td>\n",
              "    </tr>\n",
              "  </tbody>\n",
              "</table>\n",
              "</div>"
            ],
            "text/plain": [
              "            0\n",
              "196  0.957654\n",
              "197  0.950189\n",
              "198  0.946091\n",
              "239  0.934877\n",
              "240  0.932956"
            ]
          },
          "metadata": {
            "tags": []
          },
          "execution_count": 16
        }
      ]
    },
    {
      "cell_type": "code",
      "metadata": {
        "id": "FbNAim4oL4XA",
        "colab_type": "code",
        "colab": {
          "base_uri": "https://localhost:8080/",
          "height": 521
        },
        "outputId": "5b12577d-b6b7-41ad-9294-c21aa1f76c49"
      },
      "source": [
        "#Comparison with graph\n",
        "plt.figure(figsize=(10, 10), dpi=60, facecolor = 'w', edgecolor = 'k')\n",
        "\n",
        "plt.plot(test_y, color='red', label='Real Low Trend Score')\n",
        "plt.plot(testPredict[:, 0], color = 'blue', label = 'Predicted Low Trend Score')\n",
        "plt.title('Low Trend Score Prediction', fontsize = 10)\n",
        "plt.xlabel('Time', fontsize=10)\n",
        "plt.ylabel('Low Trend Score', fontsize = 10)\n",
        "plt.legend(loc = 'best')\n",
        "plt.show()\n"
      ],
      "execution_count": 17,
      "outputs": [
        {
          "output_type": "display_data",
          "data": {
            "image/png": "[encoded data removed]",
            "text/plain": [
              "<Figure size 600x600 with 1 Axes>"
            ]
          },
          "metadata": {
            "tags": []
          }
        }
      ]
    },
    {
      "cell_type": "markdown",
      "metadata": {
        "id": "ZetdPDONIwms",
        "colab_type": "text"
      },
      "source": [
        "**We could use python to calculate and plot the bollinger brands** "
      ]
    },
    {
      "cell_type": "code",
      "metadata": {
        "id": "C0NDSYeWUp-p",
        "colab_type": "code",
        "outputId": "0787c34a-e747-4aa4-dbb7-b3a1d97b444d",
        "colab": {
          "base_uri": "https://localhost:8080/",
          "height": 310
        }
      },
      "source": [
        "def addBollinger(df, period=18, col='close'):\n",
        "   \n",
        "    bbmid_series = df[col].rolling(window=period).mean()\n",
        "    series_stdev = df[col].rolling(window=period).std()\n",
        "    df['BBUpper'] = bbmid_series + 2*series_stdev\n",
        "    df['BBLower'] = bbmid_series - 2*series_stdev\n",
        "    df['BBBandwidth'] = df['BBUpper'] - df['BBLower']  \n",
        "    df['BBMiddle'] = bbmid_series\n",
        "    return df\n",
        "  \n",
        "  \n",
        "  \n",
        "del ohclv1[6]\n",
        "del ohclv1[7]\n",
        "ohclv1 =ohclv1.reset_index(drop=True)\n",
        "\n",
        "ohclv1.rename(columns={0:'timestamp', 1:'open',2:'high',3:'close',4:'low',5:'volume'}, inplace=True)\n",
        "\n",
        "\n",
        "test_asset = addBollinger(ohclv1)\n",
        "#Bollinger Bands\n",
        "fig, ax = plt.subplots()\n",
        "ax.plot(test_asset['timestamp'][17:600], test_asset['close'][17:600])\n",
        "ax.plot(test_asset['timestamp'][17:600], test_asset['BBUpper'][17:600], c='orange')\n",
        "ax.plot(test_asset['timestamp'][17:600], test_asset['BBLower'][17:600], c='orange')\n",
        "ax.plot(test_asset['timestamp'][17:600], test_asset['BBMiddle'][17:600], c='black')\n",
        "plt.legend()\n",
        "p = plt.setp(ax.xaxis.get_majorticklabels(), rotation=90, fontsize=8)\n"
      ],
      "execution_count": 18,
      "outputs": [
        {
          "output_type": "display_data",
          "data": {
            "image/png": "[encoded data removed]",
            "text/plain": [
              "<Figure size 432x288 with 1 Axes>"
            ]
          },
          "metadata": {
            "tags": []
          }
        }
      ]
    },
    {
      "cell_type": "markdown",
      "metadata": {
        "id": "iKOu550xMwlq",
        "colab_type": "text"
      },
      "source": [
        "I thought about another alternative which is about setting all the dataset as the neural network input :\n",
        "which contains  data of all OHCLV and all bollingers bands  \n",
        "but gave me the same output"
      ]
    },
    {
      "cell_type": "code",
      "metadata": {
        "id": "-BfliKZ1Lw9K",
        "colab_type": "code",
        "colab": {}
      },
      "source": [
        "# I thought about another alternative , we can set all the dataset as the neural network input :\n",
        "#which contains all data of all OHCLV and bollingers bands  \n",
        "#that gave me the same output\n",
        "  \n",
        "  \n",
        "'''data = listDF[0]\n",
        "for i in range(len(listDF)-1):\n",
        "  df=data.append(listDF[i+1], ignore_index=True)\n",
        "  data=df\n",
        "  \n",
        "missedData =dataset[~dataset.timestamp.isin(data.timestamp)]\n",
        "\n",
        "totalDF =missedData.append(data,ignore_index=True ,sort=False) \n",
        "\n",
        "totalDF['lowTrendScore'].loc[ (totalDF['lowTrendScore'].isnull())]=totalDF['lower']/totalDF['close']\n",
        "totalDF'''"
      ],
      "execution_count": 0,
      "outputs": []
    },
    {
      "cell_type": "code",
      "metadata": {
        "id": "JJurd8M0Lz8i",
        "colab_type": "code",
        "colab": {}
      },
      "source": [
        "'''from sklearn.preprocessing import MinMaxScaler\n",
        "X_Scaler = MinMaxScaler()\n",
        "\n",
        "\n",
        "  \n",
        "totalDF = data.drop_duplicates()\n",
        "totalDF = data.dropna()\n",
        "del totalDF['timestamp']\n",
        "\n",
        "\n",
        "# split into train and test sets\n",
        "\n",
        "df_train= totalDF[:len(totalDF)-int(len(totalDF)*0.2)]\n",
        "df_test= totalDF[len(totalDF)-int(len(totalDF)*0.2):]\n",
        "\n",
        "#get the target class and the features \n",
        "train_X = df_train.iloc[0:,0:9]\n",
        "train_y = df_train.iloc[0:,9:]\n",
        "train_X =train_X.values\n",
        "train_y =train_y.values\n",
        "\n",
        "\n",
        "test_X = df_test.iloc[0:,0:9]\n",
        "test_y = df_test.iloc[0:,9:]\n",
        "test_X =test_X.values\n",
        "test_y =test_y.values\n",
        "\n",
        "#scaling\n",
        "train_X = X_Scaler.fit_transform(train_X)\n",
        "test_X = X_Scaler.fit_transform(test_X)\n",
        "\n",
        "# reshape input to be [samples, time steps, features]\n",
        "train_X = np.reshape(train_X, (train_X.shape[0], 1, train_X.shape[1]))\n",
        "test_X = np.reshape(test_X, (test_X.shape[0], 1, test_X.shape[1]))\n",
        "'''"
      ],
      "execution_count": 0,
      "outputs": []
    }
  ]
}